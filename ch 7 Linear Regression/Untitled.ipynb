{
 "cells": [
  {
   "cell_type": "code",
   "execution_count": 1,
   "metadata": {
    "collapsed": true
   },
   "outputs": [],
   "source": [
    "#-*- coding: utf-8 -*-\n",
    "\n",
    "\n",
    "import numpy as np\n",
    "import tensorflow as tf\n",
    "\n",
    "data_file_name= 'linear_test.prn' # 데이터 파일 이름을 변수에 입력한다.\n",
    "xy=np.genfromtxt(data_file_name,dtype='float32') #파일의 데이터를 불러 들인다.\n"
   ]
  },
  {
   "cell_type": "code",
   "execution_count": 2,
   "metadata": {
    "collapsed": true
   },
   "outputs": [],
   "source": [
    "\n",
    "# x값과 y값을 불러 온다.\n",
    "x_data = xy[: , 0] # 첫째 칼럼을 x_data로 저장\n",
    "y_data = xy[: , 2] # 셋째 칼럼을 y_data로 저장\n",
    "\n",
    "\n",
    "# 데이터를 담을 tensor 변수를 선언한다.\n",
    "X = tf.placeholder(\"float32\")\n",
    "Y = tf.placeholder(\"float32\")\n",
    "\n",
    "# 첫 a값과 b값을 주었다. 다른 값을 주어도 괜찮다.\n",
    "temp_a =0.5\n",
    "temp_b =0.5"
   ]
  },
  {
   "cell_type": "code",
   "execution_count": 3,
   "metadata": {
    "collapsed": true
   },
   "outputs": [],
   "source": [
    "\n",
    "# a값과 b값을 tensor로 변수를 선언한다.\n",
    "a = tf.Variable(temp_a)\n",
    "b = tf.Variable(temp_b)\n",
    "y = a * X + b\n",
    "\n",
    "# cost를 정의한다.\n",
    "cost = tf.reduce_mean(tf.square(y - Y))\n",
    "\n",
    "# optimizer를 정의한다.\n",
    "opt = tf.train.GradientDescentOptimizer(0.001)\n",
    "\n",
    "# session에 이용한 train 정의\n",
    "do_train = opt.minimize(cost)\n",
    "init = tf.global_variables_initializer()\n",
    "\n",
    "with tf.Session() as sess:\n",
    "        sess.run(init)\n",
    "        for i in range(0,15000):\n",
    "            sess.run(do_train, feed_dict={X: x_data, Y: y_data})"
   ]
  },
  {
   "cell_type": "code",
   "execution_count": null,
   "metadata": {
    "collapsed": true
   },
   "outputs": [],
   "source": []
  }
 ],
 "metadata": {
  "anaconda-cloud": {},
  "kernelspec": {
   "display_name": "Python [default]",
   "language": "python",
   "name": "python3"
  },
  "language_info": {
   "codemirror_mode": {
    "name": "ipython",
    "version": 3
   },
   "file_extension": ".py",
   "mimetype": "text/x-python",
   "name": "python",
   "nbconvert_exporter": "python",
   "pygments_lexer": "ipython3",
   "version": "3.5.2"
  }
 },
 "nbformat": 4,
 "nbformat_minor": 1
}
